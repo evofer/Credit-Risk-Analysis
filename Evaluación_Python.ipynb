{
  "cells": [
    {
      "cell_type": "markdown",
      "metadata": {
        "id": "view-in-github",
        "colab_type": "text"
      },
      "source": [
        "<a href=\"https://colab.research.google.com/github/evofer/Credit-Risk-Analysis/blob/master/Evaluaci%C3%B3n_Python.ipynb\" target=\"_parent\"><img src=\"https://colab.research.google.com/assets/colab-badge.svg\" alt=\"Open In Colab\"/></a>"
      ]
    },
    {
      "cell_type": "markdown",
      "metadata": {
        "id": "Z3UYA16DDQ3-"
      },
      "source": [
        "\n",
        "<h2><font color=\"#004D7F\" size=4>Módulo 4</font></h2>\n",
        "\n",
        "\n",
        "\n",
        "<h1><font color=\"#004D7F\" size=5>Evaluación conocimientos</font></h1>\n",
        "\n",
        "<br>\n",
        "<div style=\"text-align: right\">\n",
        "<font color=\"#004D7F\" size=3>Asociación Popular de Ahorro y Préstamos - APAP</font><br>\n",
        "<font color=\"#004D7F\" size=3>Prevención y Contro de Fraude\n",
        "</font><br>\n",
        "<font color=\"#004D7F\" size=3>Setiembre 2023</font>\n",
        "\n",
        "</div>"
      ]
    },
    {
      "cell_type": "markdown",
      "metadata": {
        "id": "VWij6XOkDQ4J"
      },
      "source": [
        "---\n",
        "\n",
        "<a id=\"indice\"></a>\n",
        "<h2><font color=\"#004D7F\" size=5>Índice</font></h2>\n",
        "\n",
        "\n",
        "* [1. Introducción](#section1)\n",
        "* [2. Preparando los datos](#section2)\n",
        "   * [Análisis de datos](#section21)\n",
        "   * [Preprocesamiento](#section22)\n",
        "* [3. Fase de modelado](#section3)\n",
        "   * [Gradiente descendiente estocástico (SGD)](#section33)\n",
        "   * [Regresión logística](#section31)\n",
        "   * [Support Vector Machine (SVM)](#section32)\n",
        "   * [Árboles de decision](#section34)\n",
        "* [4. Conclusiones](#section5)\n",
        "\n"
      ]
    },
    {
      "cell_type": "markdown",
      "metadata": {
        "id": "pQVAZTzUDQ4L"
      },
      "source": [
        "---\n",
        "\n",
        "<a id=\"section1\"></a>\n",
        "## <font color=\"#004D7F\"> 1. Introducción</font>\n",
        "\n",
        "La presente evaluación tiene como finalidad medir el conocimiento de la herramienta y el proceso de construcción de modelos ya sea de clasificación o predictivos.\n",
        "\n",
        "En esta evaluación se va a utilizar el dataset [Census Income Dataset](http://archive.ics.uci.edu/ml/datasets/Census+Income). Este dataset contiene datos como la edad, trabajo, estudios, etc. de más de 48K personas.\n",
        "\n",
        "El objetivo consiste en predecir si dicha persona tiene unos ingresos que superan los 50K dólares anuales; para ello deberá guiarse a través de la metodología CRISP-DM para llevar a cabo el objetivo esperado.\n",
        "\n",
        "\n",
        "<div style=\"text-align: right\">\n",
        "<a href=\"#indice\"><font size=5><i class=\"fa fa-arrow-circle-up\" aria-hidden=\"true\" style=\"color:#004D7F\"></i></font></a>\n",
        "</div>"
      ]
    },
    {
      "cell_type": "markdown",
      "source": [],
      "metadata": {
        "id": "oouNqeDBpHwk"
      }
    },
    {
      "cell_type": "markdown",
      "metadata": {
        "id": "meDpMtgxDQ4N"
      },
      "source": [
        "---\n",
        "\n",
        "<a id=\"section2\"></a>\n",
        "## <font color=\"#004D7F\"> 2. Preparando los datos</font>\n",
        "\n",
        "\n",
        "Cargar el dataset indicado y las librerias necesarias para analizar los datos de entrada. Se solicita:\n",
        "\n",
        "* ¿Que tipos de datos encontramos en el dataset?\n",
        "* ¿La variable respuesta esta balanceada?\n",
        "\n"
      ]
    },
    {
      "cell_type": "code",
      "execution_count": 2,
      "metadata": {
        "id": "Uv6Oxt6dDQ4P"
      },
      "outputs": [],
      "source": [
        "import numpy as np\n",
        "import pandas as pd\n"
      ]
    },
    {
      "cell_type": "markdown",
      "metadata": {
        "id": "7O-fbCVzDQ4T"
      },
      "source": [
        "\n",
        "---\n",
        "\n",
        "<a id=\"section21\"></a>\n",
        "### <font color=\"#004D7F\">Análisis de datos</font>\n",
        "\n",
        "Realizar un análisis exploratorio de los datos. Responder a las siguientes preguntas (Justifique su respuesta):\n",
        "\n",
        "* ¿Estan las muestras balanceadas?\n",
        "* ¿De qué tipo son los datos? ¿Hay que transformarlos?\n",
        "* ¿Hay valores perdidos? Lleve a cabo el tratamiento adecuado según su criterio para tratar con dichos valores. Justifique su respuesta"
      ]
    },
    {
      "cell_type": "code",
      "execution_count": 2,
      "metadata": {
        "id": "-A_M3E2EDQ4U"
      },
      "outputs": [],
      "source": []
    },
    {
      "cell_type": "markdown",
      "source": [
        "¿Existen outliers o valores atípicos? Muestre 2 indicadores (univariados y multivariados) para identificar la existencia de dichos valores. En caso existan, aplique el tratamiento adecuado según su criterio."
      ],
      "metadata": {
        "id": "QKlyeuR2rufq"
      }
    },
    {
      "cell_type": "code",
      "source": [],
      "metadata": {
        "id": "BIyQXhxEsBLs"
      },
      "execution_count": null,
      "outputs": []
    },
    {
      "cell_type": "markdown",
      "metadata": {
        "id": "KkZt_XBmDQ4X"
      },
      "source": [
        "\n",
        "LLeve a cabo un análisis descriptivo mediante tablas y gráficos (univariados y bivariados) Ejemplo: Histogramas, matriz de correlaciones, etc. Comente sus hallazgos."
      ]
    },
    {
      "cell_type": "code",
      "execution_count": 2,
      "metadata": {
        "scrolled": true,
        "id": "zw52aB2PDQ4Y"
      },
      "outputs": [],
      "source": []
    },
    {
      "cell_type": "markdown",
      "metadata": {
        "id": "nDOtsRP8DQ4Z"
      },
      "source": [
        "<div class=\"alert alert-block alert-info\">\n",
        "    \n",
        "<i class=\"fa fa-info-circle\" aria-hidden=\"true\"></i> __Nota__: Si tuviesemos que imputar valores a alguna columna, se podría utilizar el valor medio o mediana para las variables numéricas y el valor más frecuente para las categóricas.\n",
        "</div>"
      ]
    },
    {
      "cell_type": "markdown",
      "metadata": {
        "id": "zXOwMi3vDQ4Z"
      },
      "source": [
        "---\n",
        "\n",
        "<a id=\"section22\"></a>\n",
        "### <font color=\"#004D7F\">Preprocesamiento</font>\n",
        "\n",
        "Antes de realizar las transformaciones necesarias tenemos que realizar la partición entre muestras de train y test. LLeve a cabo dicha partición."
      ]
    },
    {
      "cell_type": "code",
      "execution_count": 5,
      "metadata": {
        "id": "p_AyjcFGDQ4Z"
      },
      "outputs": [],
      "source": []
    },
    {
      "cell_type": "markdown",
      "metadata": {
        "id": "i6EbSeENDQ4a"
      },
      "source": [
        "¿Es necesario estandarizar los datos? Muestre el conjunto de variables a estandarizar.\n",
        "<div class=\"alert alert-block alert-info\">\n",
        "    \n",
        "<i class=\"fa fa-info-circle\" aria-hidden=\"true\"></i> __Nota__:\n",
        "Las clases en SciKit para preprocesar los datos numéricos y categóricos son [`StandardScaler`](https://scikit-learn.org/stable/modules/generated/sklearn.preprocessing.StandardScaler.html) y [`LabelBinarizer`](https://scikit-learn.org/stable/modules/generated/sklearn.preprocessing.LabelBinarizer.html), respectivamente.\n",
        "<div>"
      ]
    },
    {
      "cell_type": "code",
      "execution_count": 2,
      "metadata": {
        "id": "S1e0yCFlDQ4a"
      },
      "outputs": [],
      "source": []
    },
    {
      "cell_type": "markdown",
      "metadata": {
        "id": "4_0lHskwDQ4b"
      },
      "source": [
        "Finalmente, para poder utilizar distintos métodos de preprocesamiento sobre el mismo dataset en un Pipeline, tenemos que definir nuestra propia clase de transformación para gestionar los distintos tipos de datos. También se podría hacer con la clase [`FeatureUnion`](https://scikit-learn.org/stable/modules/generated/sklearn.pipeline.FeatureUnion.html), gestionando cada tipo de datos con un pipeline distinto y luego uniéndolos."
      ]
    },
    {
      "cell_type": "code",
      "execution_count": 3,
      "metadata": {
        "id": "MuPkJM7VDQ4c"
      },
      "outputs": [],
      "source": [
        "from sklearn.pipeline import Pipeline\n",
        "from sklearn.preprocessing import StandardScaler\n",
        "from sklearn.base import BaseEstimator, TransformerMixin\n"
      ]
    },
    {
      "cell_type": "markdown",
      "metadata": {
        "id": "11Lv-_v6DQ4c"
      },
      "source": [
        "Con esto ya hemos definido la transformación de preprocesado que podremos usar en nuestro pipeline."
      ]
    },
    {
      "cell_type": "markdown",
      "metadata": {
        "id": "TlchYZD9DQ4c"
      },
      "source": [
        "<div class=\"alert alert-block alert-info\">\n",
        "    \n",
        "<i class=\"fa fa-info-circle\" aria-hidden=\"true\"></i> __Nota__: La función [`get_dummies`](https://pandas.pydata.org/pandas-docs/stable/generated/pandas.get_dummies.html) de pandas, por defecto ignora los NaN al hacer el one-hot encoding.\n",
        "</div>"
      ]
    },
    {
      "cell_type": "markdown",
      "metadata": {
        "id": "lwuYVNaTDQ4d"
      },
      "source": [
        "<div style=\"text-align: right\">\n",
        "<a href=\"#indice\"><font size=5><i class=\"fa fa-arrow-circle-up\" aria-hidden=\"true\" style=\"color:#004D7F\"></i></font></a>\n",
        "</div>"
      ]
    },
    {
      "cell_type": "markdown",
      "metadata": {
        "id": "vBhIPUBzDQ4d"
      },
      "source": [
        "---\n",
        "\n",
        "<a id=\"section3\"></a>\n",
        "## <font color=\"#004D7F\"> 3. Fase de modelado</font>\n",
        "\n",
        "En SciKit hay multitud de modelos de aprendizaje supervisado ya implementados (https://scikit-learn.org/stable/supervised_learning.html) Algunos de estos modelos son:\n",
        "\n",
        "1. [Regresión logística](https://scikit-learn.org/stable/modules/linear_model.html#logistic-regression)\n",
        "1. [$k$-vecinos más cercanos ($k$-NN)](https://scikit-learn.org/stable/modules/neighbors.html)\n",
        "1. [Árboles de decisión](https://scikit-learn.org/stable/modules/tree.html)\n",
        "1. [Support Vector Machine (SVM)](https://scikit-learn.org/stable/modules/svm.html)\n",
        "1. [Perceptrón multicapa](https://scikit-learn.org/stable/modules/neural_networks_supervised.html)\n",
        "\n",
        "Algunos de estos modelos son muy sensibles a ciertos aspectos del preprocesamiento de los datos, por ejemplo, al escalado/normalización de las variables, a la codificación de variables categóricas o a la secuencialidad de los datos de entrada. Por lo que es conveniente tener en cuenta estos aspectos en todas las desiciones del proceso, desde el preprocesamiento de los datos a la selección modelos e hiperparámetros. **En la documentación de SciKit para cada uno de los modelos podemos encontrar instrucciones que nos indican/recuerdan estas cuestiones.**"
      ]
    },
    {
      "cell_type": "markdown",
      "source": [
        "Encontrar el mejor modelo que nos dé el mejor rendimiento con el mejor proceso establecido en los pasos anteriores (Utilize por lo menos 3 técnicas)"
      ],
      "metadata": {
        "id": "d0mdFyTm4FTp"
      }
    },
    {
      "cell_type": "code",
      "execution_count": null,
      "metadata": {
        "id": "10oWtxQWDQ4d"
      },
      "outputs": [],
      "source": [
        "## usar pipeline"
      ]
    },
    {
      "cell_type": "markdown",
      "metadata": {
        "id": "qyTvtV_2DQ4f"
      },
      "source": [
        "Una vez que hemos seleccionado los mejores parámetros utilizando unicamente el conjunto de entrenamiento, podemos evaluar con el conjunto de test."
      ]
    },
    {
      "cell_type": "code",
      "execution_count": 5,
      "metadata": {
        "id": "arcXayRJDQ4f"
      },
      "outputs": [],
      "source": [
        "## usar pipeline"
      ]
    },
    {
      "cell_type": "markdown",
      "source": [
        "<a id=\"section3\"></a>\n",
        "## <font color=\"#004D7F\"> 4. Conclusiones</font>"
      ],
      "metadata": {
        "id": "S8ha10TT4-xe"
      }
    },
    {
      "cell_type": "markdown",
      "source": [
        "** Ingrese aquí sus comentarios finales sobre los hallazgos relevantes"
      ],
      "metadata": {
        "id": "Oe3VQisd5sUS"
      }
    },
    {
      "cell_type": "markdown",
      "source": [],
      "metadata": {
        "id": "OCZlZjOZ57tm"
      }
    },
    {
      "cell_type": "markdown",
      "metadata": {
        "id": "kGYVIpR-DQ4k"
      },
      "source": [
        "---\n",
        "\n",
        "\n",
        "\n",
        "\n",
        "---\n",
        "\n",
        "### <font color=\"#004D7F\"> <i class=\"fa fa-pencil-square-o\" aria-hidden=\"true\" style=\"color:#113D68\"></i> Ejercicio (opcional)</font>\n",
        "\n",
        "Nos podríamos haber planteado otras cuestiones tanto durante el preprocesamiento de los datos como en las fases posteriores de ajuste de parámetros y clasificación. Dejamos aquí algunas sugerencias para que pruebes e intentes mejorar la tasa de aciertos:\n",
        "\n",
        "* Binarizar las variables numéricas. Por ejemplo, crear grupos de edad.\n",
        "* Estudiar la relación entre variables. ¿Se puede suprimir/añadir alguna?"
      ]
    },
    {
      "cell_type": "markdown",
      "metadata": {
        "id": "O53TEh8lDQ4k"
      },
      "source": [
        "<div style=\"text-align: left\"><font size=4> <i class=\"fa fa-check-square-o\" aria-hidden=\"true\" style=\"color:#113D68\"></i></font></div>\n",
        "\n",
        "<div style=\"text-align: right\">\n",
        "<a href=\"#indice\"><font size=5><i class=\"fa fa-arrow-circle-up\" aria-hidden=\"true\" style=\"color:#004D7F\"></i></font></a>\n",
        "</div>\n",
        "\n",
        "---\n",
        "\n",
        "<div style=\"text-align: right\"> <font size=6><i class=\"fa fa-coffee\" aria-hidden=\"true\" style=\"color:#004D7F\"></i> </font></div>"
      ]
    }
  ],
  "metadata": {
    "kernelspec": {
      "display_name": "Python 3",
      "language": "python",
      "name": "python3"
    },
    "language_info": {
      "codemirror_mode": {
        "name": "ipython",
        "version": 3
      },
      "file_extension": ".py",
      "mimetype": "text/x-python",
      "name": "python",
      "nbconvert_exporter": "python",
      "pygments_lexer": "ipython3",
      "version": "3.6.4"
    },
    "colab": {
      "provenance": [],
      "include_colab_link": true
    }
  },
  "nbformat": 4,
  "nbformat_minor": 0
}